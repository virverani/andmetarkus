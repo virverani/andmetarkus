{
 "cells": [
  {
   "cell_type": "code",
   "execution_count": 1,
   "id": "dbba60c7",
   "metadata": {},
   "outputs": [
    {
     "name": "stdout",
     "output_type": "stream",
     "text": [
      "Virve\n"
     ]
    }
   ],
   "source": [
    "firstname = \"Virve\"\n",
    "print(firstname)"
   ]
  },
  {
   "cell_type": "code",
   "execution_count": 2,
   "id": "04662ceb",
   "metadata": {},
   "outputs": [
    {
     "name": "stdout",
     "output_type": "stream",
     "text": [
      "Kask\n"
     ]
    }
   ],
   "source": [
    "lastname = \"Kask\"\n",
    "print(lastname)"
   ]
  },
  {
   "cell_type": "code",
   "execution_count": 3,
   "id": "e7ef5db8",
   "metadata": {},
   "outputs": [
    {
     "name": "stdout",
     "output_type": "stream",
     "text": [
      "Virve Kask\n"
     ]
    }
   ],
   "source": [
    "fullname = firstname + \" \" + lastname\n",
    "print(fullname)"
   ]
  },
  {
   "cell_type": "code",
   "execution_count": 4,
   "id": "d38d643c",
   "metadata": {},
   "outputs": [
    {
     "name": "stdout",
     "output_type": "stream",
     "text": [
      "VIRVE KASK\n"
     ]
    }
   ],
   "source": [
    "full_name_upper = fullname.upper()\n",
    "print(full_name_upper)"
   ]
  }
 ],
 "metadata": {
  "kernelspec": {
   "display_name": "Python 3",
   "language": "python",
   "name": "python3"
  },
  "language_info": {
   "codemirror_mode": {
    "name": "ipython",
    "version": 3
   },
   "file_extension": ".py",
   "mimetype": "text/x-python",
   "name": "python",
   "nbconvert_exporter": "python",
   "pygments_lexer": "ipython3",
   "version": "3.13.5"
  }
 },
 "nbformat": 4,
 "nbformat_minor": 5
}
