{
 "cells": [
  {
   "cell_type": "markdown",
   "id": "2b091a4d",
   "metadata": {},
   "source": [
    "### Check connection between electricity price and weather data\n",
    "\n",
    "#### Data sources:\n",
    "- [(Elering API)](https://dashboard.elering.ee/assets/api-doc.html)\n",
    "- [(Keskkonnaameti avaandmed)](https://keskkonnaportaal.ee/et/avaandmed)\n",
    "- [(Ajaloolised vaatlusandmed)](https://www.ilmateenistus.ee/kliima/ajaloolised-ilmaandmed/)"
   ]
  },
  {
   "cell_type": "code",
   "execution_count": 25,
   "id": "2acd1fb6",
   "metadata": {},
   "outputs": [],
   "source": [
    "# Get NordPool price data from Elering\n",
    "import requests\n",
    "import json\n",
    "\n",
    "# electricity_url = \"https://dashboard.elering.ee/api/nps/price?start=2025-01-01T00%3A00%3A01.999Z&end=2025-01-31T23%3A59%3A59.999Z\"\n",
    "\n",
    "electricity_url = \"https://dashboard.elering.ee/api/nps/price\"\n",
    "\n",
    "\n",
    "# Define functions to get data and save it\n",
    "def get_price(start, end):\n",
    "    url= f\"https://dashboard.elering.ee/api/nps/price?start={start}&end={end}\"\n",
    "    response = requests.get(url)\n",
    "    return response.json()\n",
    "\n",
    "def save_json(data: dict, filename: str):\n",
    "    with open(filename, \"w\", encoding = \"utf-8\") as f: \n",
    "        json.dump(data, f, ensure_ascii=False, indent=2)\n",
    "\n",
    "# Check if file is already done then load from file, otherwise load from url \n",
    "# def load_or_fetch_data(start: str, end: str, filename: str) -> dict:\n",
    "    \n",
    "\n",
    "# Create file for August-2025\n",
    "start = '2025-08-01T00:00:01.999Z'\n",
    "end = \"2025-08-31T23:59:59.999Z\"\n",
    "\n",
    "data = get_price(start,end)\n",
    "save_json(data, 'electricity_prices_aug_2025.json')\n",
    "\n",
    "# Change timestamp column\n",
    "from datetime import datetime\n",
    "import zoneinfo\n",
    "import pandas as pd\n",
    "\n",
    "# Convert the 'ee' list to a DataFrame\n",
    "df = pd.DataFrame(data['data']['ee'])\n",
    "\n",
    "# Add Tallinn/Europe timezone\n",
    "tz = zoneinfo.ZoneInfo(\"Europe/Tallinn\")\n",
    "\n",
    "# Add a new column for datetime with readable format\n",
    "df['datetime'] = pd.to_datetime(df['timestamp'], tz, unit='s')\n",
    "\n",
    "\n",
    "\n"
   ]
  }
 ],
 "metadata": {
  "kernelspec": {
   "display_name": "Python 3",
   "language": "python",
   "name": "python3"
  },
  "language_info": {
   "codemirror_mode": {
    "name": "ipython",
    "version": 3
   },
   "file_extension": ".py",
   "mimetype": "text/x-python",
   "name": "python",
   "nbconvert_exporter": "python",
   "pygments_lexer": "ipython3",
   "version": "3.13.5"
  }
 },
 "nbformat": 4,
 "nbformat_minor": 5
}
